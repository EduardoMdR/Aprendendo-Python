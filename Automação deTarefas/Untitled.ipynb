{
 "cells": [
  {
   "cell_type": "code",
   "execution_count": 6,
   "id": "cd2f2672",
   "metadata": {},
   "outputs": [],
   "source": [
    "import pyautogui\n",
    "import pyperclip\n",
    "import time\n",
    "\n",
    "pyautogui.PAUSE = 1\n",
    "\n",
    "pyautogui.hotkey(\"win\")\n",
    "pyautogui.write(\"discord\")\n",
    "pyautogui.press(\"enter\")\n",
    "\n",
    "time.sleep(2)\n",
    "pyautogui.click(x=171, y=43)\n",
    "pyautogui.write(\"DuendeAzull\")\n",
    "pyautogui.press(\"enter\")\n",
    "\n",
    "pyautogui.write(\"Veado\")\n",
    "pyautogui.press(\"enter\")\n",
    "pyautogui.write(\"Veado\")\n",
    "pyautogui.press(\"enter\")\n",
    "pyautogui.write(\"Veado\")\n",
    "pyautogui.press(\"enter\")\n",
    "pyautogui.write(\"Veado\")\n",
    "pyautogui.press(\"enter\")\n",
    "pyautogui.write(\"Veado\")\n",
    "pyautogui.press(\"enter\")\n",
    "pyautogui.write(\"Veado\", interval=0.25)\n",
    "pyautogui.press(\"enter\")\n",
    "pyautogui.write(\"Veado\", interval=0.5)\n",
    "pyautogui.press(\"enter\")\n"
   ]
  },
  {
   "cell_type": "code",
   "execution_count": 2,
   "id": "aa9ba3e6",
   "metadata": {},
   "outputs": [
    {
     "data": {
      "text/plain": [
       "Point(x=171, y=43)"
      ]
     },
     "execution_count": 2,
     "metadata": {},
     "output_type": "execute_result"
    }
   ],
   "source": [
    "time.sleep(5)\n",
    "pyautogui.position()"
   ]
  },
  {
   "cell_type": "code",
   "execution_count": null,
   "id": "96a80a77",
   "metadata": {},
   "outputs": [],
   "source": []
  }
 ],
 "metadata": {
  "kernelspec": {
   "display_name": "Python 3",
   "language": "python",
   "name": "python3"
  },
  "language_info": {
   "codemirror_mode": {
    "name": "ipython",
    "version": 3
   },
   "file_extension": ".py",
   "mimetype": "text/x-python",
   "name": "python",
   "nbconvert_exporter": "python",
   "pygments_lexer": "ipython3",
   "version": "3.8.8"
  }
 },
 "nbformat": 4,
 "nbformat_minor": 5
}
